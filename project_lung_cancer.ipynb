{
  "cells": [
    {
      "cell_type": "markdown",
      "metadata": {
        "id": "QXOOhHCvuTCX"
      },
      "source": [
        "##### **New York Institute of Technology, Manhattan**\n",
        "\n",
        "##### Machine Learning (Fall 2022)\n",
        "\n",
        "----------------------------------------------------------\n",
        "# **Lung Cancer Prediction** \n",
        "---------------------------------------------------------\n",
        "\n",
        "### Presented by:\n",
        "* **Luis Valenzuela**\n"
      ]
    },
    {
      "cell_type": "markdown",
      "metadata": {
        "id": "XIc6q11UqDxU"
      },
      "source": [
        "\n",
        "> We selected covid-19 data as our first topic for this project, that's why our pre-analysis and research was submitted on covid-19. Due to unfortunate hurdles with data we pivoted toward lung cancer prediction analysis.\n",
        "\n",
        "> Project presented in class on December 9, 2022.\n",
        "----------------\n"
      ]
    },
    {
      "cell_type": "markdown",
      "metadata": {
        "id": "pV3nQn69KJfM"
      },
      "source": [
        "**Lung Cancer Prediction\n",
        "Notebook Guidelines :**\n",
        "\n",
        "1. Data Collection (Dataset)/ Importing Libraries\n",
        "2. Data Cleaning/Data Preprocessing\n",
        "3. Modelling (Feature Extraction)\n",
        "  - Hyperpermamters Optimization\n",
        "    Random Forest\n",
        "    SVC\n",
        "    Naive Bayes\n",
        "    Decision Tree\n",
        "4. Classification --> Prediction\n",
        "5. Train and Evaluate the model\n",
        "6. Comparative Analysis\n",
        "   - Accurarcy\n",
        "   - Precision\n",
        "   - Recall\n",
        "   - F- Measure\n",
        "   - Time Taken\n",
        "7. Finding the best model!\n"
      ]
    },
    {
      "cell_type": "markdown",
      "metadata": {
        "id": "Bp40c9v7YHM7"
      },
      "source": [
        "## ETL"
      ]
    },
    {
      "cell_type": "code",
      "execution_count": null,
      "metadata": {
        "id": "uXAWXxO9DtWe"
      },
      "outputs": [],
      "source": [
        "# Dependencies \n",
        "import warnings\n",
        "warnings.filterwarnings('ignore')\n",
        "\n",
        "import numpy as np\n",
        "import pandas as pd \n",
        "\n",
        "import matplotlib.pyplot as plt\n",
        "import seaborn as sns\n",
        "\n",
        "import time\n",
        "import datetime"
      ]
    },
    {
      "cell_type": "code",
      "execution_count": null,
      "metadata": {
        "id": "2_4Jc1YVIFIN"
      },
      "outputs": [],
      "source": [
        "from sklearn.preprocessing import StandardScaler\n",
        "\n",
        "from sklearn.svm import SVC\n",
        "from sklearn.naive_bayes import GaussianNB\n",
        "\n",
        "from sklearn.model_selection import train_test_split\n",
        "from sklearn.model_selection import GridSearchCV\n",
        "from sklearn.model_selection import RandomizedSearchCV\n",
        "\n",
        "from sklearn.metrics import accuracy_score\n",
        "from sklearn.metrics import confusion_matrix\n",
        "from sklearn.metrics import classification_report\n",
        "from sklearn.metrics import f1_score\n",
        "from sklearn.metrics import r2_score\n",
        "from sklearn.metrics import precision_score\n",
        "from sklearn.metrics import recall_score\n",
        "from sklearn.metrics import mean_absolute_error\n",
        "from sklearn.metrics import mean_squared_error\n",
        "from sklearn.metrics import roc_auc_score\n",
        "from sklearn.metrics import roc_curve\n",
        "from sklearn.metrics import ConfusionMatrixDisplay"
      ]
    },
    {
      "cell_type": "code",
      "execution_count": null,
      "metadata": {
        "id": "Yxnq5TNaYHM9",
        "outputId": "c777ca63-e6c8-4345-a86a-c3adf663cfba"
      },
      "outputs": [
        {
          "data": {
            "text/html": [
              "<div>\n",
              "<style scoped>\n",
              "    .dataframe tbody tr th:only-of-type {\n",
              "        vertical-align: middle;\n",
              "    }\n",
              "\n",
              "    .dataframe tbody tr th {\n",
              "        vertical-align: top;\n",
              "    }\n",
              "\n",
              "    .dataframe thead th {\n",
              "        text-align: right;\n",
              "    }\n",
              "</style>\n",
              "<table border=\"1\" class=\"dataframe\">\n",
              "  <thead>\n",
              "    <tr style=\"text-align: right;\">\n",
              "      <th></th>\n",
              "      <th>GENDER</th>\n",
              "      <th>AGE</th>\n",
              "      <th>SMOKING</th>\n",
              "      <th>YELLOW_FINGERS</th>\n",
              "      <th>ANXIETY</th>\n",
              "      <th>PEER_PRESSURE</th>\n",
              "      <th>CHRONIC DISEASE</th>\n",
              "      <th>FATIGUE</th>\n",
              "      <th>ALLERGY</th>\n",
              "      <th>WHEEZING</th>\n",
              "      <th>ALCOHOL CONSUMING</th>\n",
              "      <th>COUGHING</th>\n",
              "      <th>SHORTNESS OF BREATH</th>\n",
              "      <th>SWALLOWING DIFFICULTY</th>\n",
              "      <th>CHEST PAIN</th>\n",
              "      <th>LUNG_CANCER</th>\n",
              "    </tr>\n",
              "  </thead>\n",
              "  <tbody>\n",
              "    <tr>\n",
              "      <th>0</th>\n",
              "      <td>M</td>\n",
              "      <td>69</td>\n",
              "      <td>1</td>\n",
              "      <td>2</td>\n",
              "      <td>2</td>\n",
              "      <td>1</td>\n",
              "      <td>1</td>\n",
              "      <td>2</td>\n",
              "      <td>1</td>\n",
              "      <td>2</td>\n",
              "      <td>2</td>\n",
              "      <td>2</td>\n",
              "      <td>2</td>\n",
              "      <td>2</td>\n",
              "      <td>2</td>\n",
              "      <td>YES</td>\n",
              "    </tr>\n",
              "    <tr>\n",
              "      <th>1</th>\n",
              "      <td>M</td>\n",
              "      <td>74</td>\n",
              "      <td>2</td>\n",
              "      <td>1</td>\n",
              "      <td>1</td>\n",
              "      <td>1</td>\n",
              "      <td>2</td>\n",
              "      <td>2</td>\n",
              "      <td>2</td>\n",
              "      <td>1</td>\n",
              "      <td>1</td>\n",
              "      <td>1</td>\n",
              "      <td>2</td>\n",
              "      <td>2</td>\n",
              "      <td>2</td>\n",
              "      <td>YES</td>\n",
              "    </tr>\n",
              "    <tr>\n",
              "      <th>2</th>\n",
              "      <td>F</td>\n",
              "      <td>59</td>\n",
              "      <td>1</td>\n",
              "      <td>1</td>\n",
              "      <td>1</td>\n",
              "      <td>2</td>\n",
              "      <td>1</td>\n",
              "      <td>2</td>\n",
              "      <td>1</td>\n",
              "      <td>2</td>\n",
              "      <td>1</td>\n",
              "      <td>2</td>\n",
              "      <td>2</td>\n",
              "      <td>1</td>\n",
              "      <td>2</td>\n",
              "      <td>NO</td>\n",
              "    </tr>\n",
              "    <tr>\n",
              "      <th>3</th>\n",
              "      <td>M</td>\n",
              "      <td>63</td>\n",
              "      <td>2</td>\n",
              "      <td>2</td>\n",
              "      <td>2</td>\n",
              "      <td>1</td>\n",
              "      <td>1</td>\n",
              "      <td>1</td>\n",
              "      <td>1</td>\n",
              "      <td>1</td>\n",
              "      <td>2</td>\n",
              "      <td>1</td>\n",
              "      <td>1</td>\n",
              "      <td>2</td>\n",
              "      <td>2</td>\n",
              "      <td>NO</td>\n",
              "    </tr>\n",
              "    <tr>\n",
              "      <th>4</th>\n",
              "      <td>F</td>\n",
              "      <td>63</td>\n",
              "      <td>1</td>\n",
              "      <td>2</td>\n",
              "      <td>1</td>\n",
              "      <td>1</td>\n",
              "      <td>1</td>\n",
              "      <td>1</td>\n",
              "      <td>1</td>\n",
              "      <td>2</td>\n",
              "      <td>1</td>\n",
              "      <td>2</td>\n",
              "      <td>2</td>\n",
              "      <td>1</td>\n",
              "      <td>1</td>\n",
              "      <td>NO</td>\n",
              "    </tr>\n",
              "  </tbody>\n",
              "</table>\n",
              "</div>"
            ],
            "text/plain": [
              "  GENDER  AGE  SMOKING  YELLOW_FINGERS  ANXIETY  PEER_PRESSURE  \\\n",
              "0      M   69        1               2        2              1   \n",
              "1      M   74        2               1        1              1   \n",
              "2      F   59        1               1        1              2   \n",
              "3      M   63        2               2        2              1   \n",
              "4      F   63        1               2        1              1   \n",
              "\n",
              "   CHRONIC DISEASE  FATIGUE   ALLERGY   WHEEZING  ALCOHOL CONSUMING  COUGHING  \\\n",
              "0                1         2         1         2                  2         2   \n",
              "1                2         2         2         1                  1         1   \n",
              "2                1         2         1         2                  1         2   \n",
              "3                1         1         1         1                  2         1   \n",
              "4                1         1         1         2                  1         2   \n",
              "\n",
              "   SHORTNESS OF BREATH  SWALLOWING DIFFICULTY  CHEST PAIN LUNG_CANCER  \n",
              "0                    2                      2           2         YES  \n",
              "1                    2                      2           2         YES  \n",
              "2                    2                      1           2          NO  \n",
              "3                    1                      2           2          NO  \n",
              "4                    2                      1           1          NO  "
            ]
          },
          "execution_count": 39,
          "metadata": {},
          "output_type": "execute_result"
        }
      ],
      "source": [
        "# Store the file of given dataset into a Pandas DataFrame.\n",
        "\n",
        "source_file = \"data/survey lung cancer.csv\"\n",
        "df = pd.read_csv(source_file)\n",
        "df.head()"
      ]
    },
    {
      "cell_type": "code",
      "execution_count": null,
      "metadata": {
        "colab": {
          "base_uri": "https://localhost:8080/"
        },
        "id": "5iXXMBV0Qa77",
        "outputId": "a546c67a-7d09-40d5-e877-29a2f8f3f29a"
      },
      "outputs": [
        {
          "name": "stdout",
          "output_type": "stream",
          "text": [
            "<class 'pandas.core.frame.DataFrame'>\n",
            "RangeIndex: 309 entries, 0 to 308\n",
            "Data columns (total 16 columns):\n",
            " #   Column                 Non-Null Count  Dtype \n",
            "---  ------                 --------------  ----- \n",
            " 0   GENDER                 309 non-null    object\n",
            " 1   AGE                    309 non-null    int64 \n",
            " 2   SMOKING                309 non-null    int64 \n",
            " 3   YELLOW_FINGERS         309 non-null    int64 \n",
            " 4   ANXIETY                309 non-null    int64 \n",
            " 5   PEER_PRESSURE          309 non-null    int64 \n",
            " 6   CHRONIC DISEASE        309 non-null    int64 \n",
            " 7   FATIGUE                309 non-null    int64 \n",
            " 8   ALLERGY                309 non-null    int64 \n",
            " 9   WHEEZING               309 non-null    int64 \n",
            " 10  ALCOHOL CONSUMING      309 non-null    int64 \n",
            " 11  COUGHING               309 non-null    int64 \n",
            " 12  SHORTNESS OF BREATH    309 non-null    int64 \n",
            " 13  SWALLOWING DIFFICULTY  309 non-null    int64 \n",
            " 14  CHEST PAIN             309 non-null    int64 \n",
            " 15  LUNG_CANCER            309 non-null    object\n",
            "dtypes: int64(14), object(2)\n",
            "memory usage: 38.8+ KB\n"
          ]
        }
      ],
      "source": [
        "df.info()"
      ]
    },
    {
      "cell_type": "code",
      "execution_count": null,
      "metadata": {
        "id": "PyUxnzFYYHM-",
        "outputId": "807b5f9e-3998-442d-d054-5f2ed7f54c2d"
      },
      "outputs": [
        {
          "data": {
            "text/plain": [
              "(309, 16)"
            ]
          },
          "execution_count": 41,
          "metadata": {},
          "output_type": "execute_result"
        }
      ],
      "source": [
        "df.shape"
      ]
    },
    {
      "cell_type": "markdown",
      "metadata": {
        "id": "PIZ73lp1YHM-"
      },
      "source": [
        "* ^ There are 309 rows and 16 columns."
      ]
    },
    {
      "cell_type": "code",
      "execution_count": null,
      "metadata": {
        "colab": {
          "base_uri": "https://localhost:8080/"
        },
        "id": "aMomgitHDtWi",
        "outputId": "486a3626-4ede-4154-d160-ff2dc10c28da",
        "scrolled": true
      },
      "outputs": [
        {
          "data": {
            "text/plain": [
              "GENDER                   0\n",
              "AGE                      0\n",
              "SMOKING                  0\n",
              "YELLOW_FINGERS           0\n",
              "ANXIETY                  0\n",
              "PEER_PRESSURE            0\n",
              "CHRONIC DISEASE          0\n",
              "FATIGUE                  0\n",
              "ALLERGY                  0\n",
              "WHEEZING                 0\n",
              "ALCOHOL CONSUMING        0\n",
              "COUGHING                 0\n",
              "SHORTNESS OF BREATH      0\n",
              "SWALLOWING DIFFICULTY    0\n",
              "CHEST PAIN               0\n",
              "LUNG_CANCER              0\n",
              "dtype: int64"
            ]
          },
          "execution_count": 42,
          "metadata": {},
          "output_type": "execute_result"
        }
      ],
      "source": [
        "df.isnull().sum()"
      ]
    },
    {
      "cell_type": "markdown",
      "metadata": {
        "id": "3D15v-j1YHM_"
      },
      "source": [
        "* ^ There are no null values."
      ]
    },
    {
      "cell_type": "code",
      "execution_count": null,
      "metadata": {
        "colab": {
          "base_uri": "https://localhost:8080/"
        },
        "id": "xev7SJASda_6",
        "outputId": "b888bf8c-f347-42b7-82d5-c90a540625b1",
        "scrolled": true
      },
      "outputs": [
        {
          "name": "stdout",
          "output_type": "stream",
          "text": [
            "There are 33 duplicate entries out of 309 entries in this dataset.\n",
            "\n",
            "After removing duplicate entries, there are 276 entries in this dataset.\n"
          ]
        }
      ],
      "source": [
        "dup = df[df.duplicated()].shape[0]\n",
        "print(f\"There are {dup} duplicate entries out of {df.shape[0]} entries in this dataset.\")\n",
        "\n",
        "df.drop_duplicates(keep='first',inplace=True)\n",
        "print(f\"\\nAfter removing duplicate entries, there are {df.shape[0]} entries in this dataset.\")"
      ]
    },
    {
      "cell_type": "markdown",
      "metadata": {
        "id": "ISEeeB8iYHNA"
      },
      "source": [
        "### Analysis"
      ]
    },
    {
      "cell_type": "code",
      "execution_count": null,
      "metadata": {
        "id": "4vZQAQcGYHNA"
      },
      "outputs": [],
      "source": [
        "# function to create labeled barplots\n",
        "\n",
        "\n",
        "def labeled_barplot(data, feature, perc=False, n=None):\n",
        "    \"\"\"\n",
        "    Barplot with percentage at the top\n",
        "\n",
        "    data: dataframe\n",
        "    feature: dataframe column\n",
        "    perc: whether to display percentages instead of count (default is False)\n",
        "    n: displays the top n category levels (default is None, i.e., display all levels)\n",
        "    \"\"\"\n",
        "\n",
        "    total = len(data[feature])  # length of the column\n",
        "    count = data[feature].nunique()\n",
        "    if n is None:\n",
        "        plt.figure(figsize=(count + 1, 5))\n",
        "    else:\n",
        "        plt.figure(figsize=(n + 1, 5))\n",
        "\n",
        "    plt.xticks(rotation=90, fontsize=15)\n",
        "    ax = sns.countplot(\n",
        "        data=data,\n",
        "        x=feature,\n",
        "        palette=\"Blues\",\n",
        "        order=data[feature].value_counts().index[:n].sort_values(),\n",
        "    )\n",
        "\n",
        "    for p in ax.patches:\n",
        "        if perc == True:\n",
        "            label = \"{:.1f}%\".format(\n",
        "                100 * p.get_height() / total\n",
        "            )  # percentage of each class of the category\n",
        "        else:\n",
        "            label = p.get_height()  # count of each level of the category\n",
        "\n",
        "        x = p.get_x() + p.get_width() / 2  # width of the plot\n",
        "        y = p.get_height()  # height of the plot\n",
        "\n",
        "        ax.annotate(\n",
        "            label,\n",
        "            (x, y),\n",
        "            ha=\"center\",\n",
        "            va=\"center\",\n",
        "            size=12,\n",
        "            xytext=(0, 5),\n",
        "            textcoords=\"offset points\",\n",
        "        )  # annotate the percentage\n",
        "\n",
        "    plt.show()  # show the plot"
      ]
    },
    {
      "cell_type": "code",
      "execution_count": null,
      "metadata": {
        "scrolled": true,
        "id": "vDm2wfp2YHNB",
        "outputId": "37c6182c-3a38-482b-e96d-31940702f676"
      },
      "outputs": [
        {
          "data": {
            "image/png": "[encoded data removed]",
            "text/plain": [
              "<Figure size 216x360 with 1 Axes>"
            ]
          },
          "metadata": {
            "needs_background": "light"
          },
          "output_type": "display_data"
        }
      ],
      "source": [
        "labeled_barplot(df,\"LUNG_CANCER\",perc=True)"
      ]
    },
    {
      "cell_type": "markdown",
      "metadata": {
        "id": "kfRjo5eWYHNB"
      },
      "source": [
        "### Gender Demographics"
      ]
    },
    {
      "cell_type": "code",
      "execution_count": null,
      "metadata": {
        "id": "v8H_9FVDYHNB",
        "outputId": "a9d5add0-f34a-4b07-f0e4-a539ef6b407c"
      },
      "outputs": [
        {
          "data": {
            "text/plain": [
              "array(['M', 'F'], dtype=object)"
            ]
          },
          "execution_count": 46,
          "metadata": {},
          "output_type": "execute_result"
        }
      ],
      "source": [
        "df['GENDER'].unique()"
      ]
    },
    {
      "cell_type": "code",
      "execution_count": null,
      "metadata": {
        "id": "-pWPMMolYHNB",
        "outputId": "6b99327e-adfd-438e-f63f-39a58f312859"
      },
      "outputs": [
        {
          "name": "stdout",
          "output_type": "stream",
          "text": [
            "M    142\n",
            "F    134\n",
            "Name: GENDER, dtype: int64\n"
          ]
        }
      ],
      "source": [
        "# count all values in gender column\n",
        "\n",
        "print(df['GENDER'].value_counts())"
      ]
    },
    {
      "cell_type": "code",
      "execution_count": null,
      "metadata": {
        "id": "vLdOTEW4YHNC",
        "outputId": "dbe6a54f-3754-4d95-ce06-98b8a641605a"
      },
      "outputs": [
        {
          "data": {
            "image/png": "[encoded data removed]",
            "text/plain": [
              "<Figure size 216x360 with 1 Axes>"
            ]
          },
          "metadata": {
            "needs_background": "light"
          },
          "output_type": "display_data"
        }
      ],
      "source": [
        "labeled_barplot(df,\"GENDER\",perc=True)"
      ]
    },
    {
      "cell_type": "code",
      "execution_count": null,
      "metadata": {
        "id": "5hvRpswjYHNC",
        "outputId": "ba85fb63-96aa-4658-8aef-93363b3ec3b8"
      },
      "outputs": [
        {
          "name": "stdout",
          "output_type": "stream",
          "text": [
            "The total number of Females are :  134\n",
            "The total number of Males are :  142\n"
          ]
        }
      ],
      "source": [
        "total_females = df['GENDER'].value_counts()['F']\n",
        "total_males = df['GENDER'].value_counts()['M']\n",
        "total_males\n",
        "\n",
        "print('The total number of Females are : ', total_females)\n",
        "print('The total number of Males are : ', total_males)"
      ]
    },
    {
      "cell_type": "markdown",
      "metadata": {
        "id": "HgFybwGyYHNC"
      },
      "source": [
        "### Age Demographics"
      ]
    },
    {
      "cell_type": "code",
      "execution_count": null,
      "metadata": {
        "id": "fI3oPmaRYHND",
        "outputId": "3c571c22-5c88-40a8-878e-eb8d3dae9bb6"
      },
      "outputs": [
        {
          "data": {
            "text/plain": [
              "<matplotlib.axes._subplots.AxesSubplot at 0x21059d8dfc8>"
            ]
          },
          "execution_count": 50,
          "metadata": {},
          "output_type": "execute_result"
        },
        {
          "data": {
            "image/png": "[encoded data removed]",
            "text/plain": [
              "<Figure size 864x864 with 1 Axes>"
            ]
          },
          "metadata": {
            "needs_background": "light"
          },
          "output_type": "display_data"
        }
      ],
      "source": [
        "plt.figure(figsize = (12,12))\n",
        "sns.distplot(df['AGE'])"
      ]
    },
    {
      "cell_type": "code",
      "execution_count": null,
      "metadata": {
        "id": "PTj5PHLbYHND",
        "outputId": "5b9c99d9-33af-41ca-9b5c-67188fd473ee"
      },
      "outputs": [
        {
          "name": "stdout",
          "output_type": "stream",
          "text": [
            "Minimum Age: 21\n",
            "Maximum Age: 87\n"
          ]
        }
      ],
      "source": [
        "# Figure out the minimum and maximum values for Age column\n",
        "\n",
        "print('Minimum Age:', df[\"AGE\"].min())\n",
        "print('Maximum Age:', df[\"AGE\"].max())"
      ]
    },
    {
      "cell_type": "code",
      "execution_count": null,
      "metadata": {
        "id": "l06ywZikYHND"
      },
      "outputs": [],
      "source": [
        "# Create bins in which to place values based upon Age column\n",
        "bins = [20, 30.90, 40.90, 50.90, 60.90, 70.90, 80.90, 100]\n",
        "\n",
        "# Create labels for these bins\n",
        "group_labels = [\"21-30\", \"31-40\", \"41-50\", \"51-60\", \"61-70\", \"71-80\", \"80+\"]"
      ]
    },
    {
      "cell_type": "code",
      "execution_count": null,
      "metadata": {
        "id": "dKWgbovYYHND"
      },
      "outputs": [],
      "source": [
        "# Creating a copy of main DataFrame with argument 'deep=True' so it does not affect the original DF.\n",
        "copy_df = df.copy(deep=True)"
      ]
    },
    {
      "cell_type": "code",
      "execution_count": null,
      "metadata": {
        "id": "gqIQQmtMYHNE",
        "outputId": "e075af9b-30a6-4adb-abd8-a5dd0b94a222"
      },
      "outputs": [
        {
          "data": {
            "text/html": [
              "<div>\n",
              "<style scoped>\n",
              "    .dataframe tbody tr th:only-of-type {\n",
              "        vertical-align: middle;\n",
              "    }\n",
              "\n",
              "    .dataframe tbody tr th {\n",
              "        vertical-align: top;\n",
              "    }\n",
              "\n",
              "    .dataframe thead th {\n",
              "        text-align: right;\n",
              "    }\n",
              "</style>\n",
              "<table border=\"1\" class=\"dataframe\">\n",
              "  <thead>\n",
              "    <tr style=\"text-align: right;\">\n",
              "      <th></th>\n",
              "      <th>GENDER</th>\n",
              "      <th>AGE</th>\n",
              "      <th>SMOKING</th>\n",
              "      <th>YELLOW_FINGERS</th>\n",
              "      <th>ANXIETY</th>\n",
              "      <th>PEER_PRESSURE</th>\n",
              "      <th>CHRONIC DISEASE</th>\n",
              "      <th>FATIGUE</th>\n",
              "      <th>ALLERGY</th>\n",
              "      <th>WHEEZING</th>\n",
              "      <th>ALCOHOL CONSUMING</th>\n",
              "      <th>COUGHING</th>\n",
              "      <th>SHORTNESS OF BREATH</th>\n",
              "      <th>SWALLOWING DIFFICULTY</th>\n",
              "      <th>CHEST PAIN</th>\n",
              "      <th>LUNG_CANCER</th>\n",
              "      <th>AGE_GROUP</th>\n",
              "    </tr>\n",
              "  </thead>\n",
              "  <tbody>\n",
              "    <tr>\n",
              "      <th>0</th>\n",
              "      <td>M</td>\n",
              "      <td>69</td>\n",
              "      <td>1</td>\n",
              "      <td>2</td>\n",
              "      <td>2</td>\n",
              "      <td>1</td>\n",
              "      <td>1</td>\n",
              "      <td>2</td>\n",
              "      <td>1</td>\n",
              "      <td>2</td>\n",
              "      <td>2</td>\n",
              "      <td>2</td>\n",
              "      <td>2</td>\n",
              "      <td>2</td>\n",
              "      <td>2</td>\n",
              "      <td>YES</td>\n",
              "      <td>61-70</td>\n",
              "    </tr>\n",
              "    <tr>\n",
              "      <th>1</th>\n",
              "      <td>M</td>\n",
              "      <td>74</td>\n",
              "      <td>2</td>\n",
              "      <td>1</td>\n",
              "      <td>1</td>\n",
              "      <td>1</td>\n",
              "      <td>2</td>\n",
              "      <td>2</td>\n",
              "      <td>2</td>\n",
              "      <td>1</td>\n",
              "      <td>1</td>\n",
              "      <td>1</td>\n",
              "      <td>2</td>\n",
              "      <td>2</td>\n",
              "      <td>2</td>\n",
              "      <td>YES</td>\n",
              "      <td>71-80</td>\n",
              "    </tr>\n",
              "    <tr>\n",
              "      <th>2</th>\n",
              "      <td>F</td>\n",
              "      <td>59</td>\n",
              "      <td>1</td>\n",
              "      <td>1</td>\n",
              "      <td>1</td>\n",
              "      <td>2</td>\n",
              "      <td>1</td>\n",
              "      <td>2</td>\n",
              "      <td>1</td>\n",
              "      <td>2</td>\n",
              "      <td>1</td>\n",
              "      <td>2</td>\n",
              "      <td>2</td>\n",
              "      <td>1</td>\n",
              "      <td>2</td>\n",
              "      <td>NO</td>\n",
              "      <td>51-60</td>\n",
              "    </tr>\n",
              "    <tr>\n",
              "      <th>3</th>\n",
              "      <td>M</td>\n",
              "      <td>63</td>\n",
              "      <td>2</td>\n",
              "      <td>2</td>\n",
              "      <td>2</td>\n",
              "      <td>1</td>\n",
              "      <td>1</td>\n",
              "      <td>1</td>\n",
              "      <td>1</td>\n",
              "      <td>1</td>\n",
              "      <td>2</td>\n",
              "      <td>1</td>\n",
              "      <td>1</td>\n",
              "      <td>2</td>\n",
              "      <td>2</td>\n",
              "      <td>NO</td>\n",
              "      <td>61-70</td>\n",
              "    </tr>\n",
              "    <tr>\n",
              "      <th>4</th>\n",
              "      <td>F</td>\n",
              "      <td>63</td>\n",
              "      <td>1</td>\n",
              "      <td>2</td>\n",
              "      <td>1</td>\n",
              "      <td>1</td>\n",
              "      <td>1</td>\n",
              "      <td>1</td>\n",
              "      <td>1</td>\n",
              "      <td>2</td>\n",
              "      <td>1</td>\n",
              "      <td>2</td>\n",
              "      <td>2</td>\n",
              "      <td>1</td>\n",
              "      <td>1</td>\n",
              "      <td>NO</td>\n",
              "      <td>61-70</td>\n",
              "    </tr>\n",
              "  </tbody>\n",
              "</table>\n",
              "</div>"
            ],
            "text/plain": [
              "  GENDER  AGE  SMOKING  YELLOW_FINGERS  ANXIETY  PEER_PRESSURE  \\\n",
              "0      M   69        1               2        2              1   \n",
              "1      M   74        2               1        1              1   \n",
              "2      F   59        1               1        1              2   \n",
              "3      M   63        2               2        2              1   \n",
              "4      F   63        1               2        1              1   \n",
              "\n",
              "   CHRONIC DISEASE  FATIGUE   ALLERGY   WHEEZING  ALCOHOL CONSUMING  COUGHING  \\\n",
              "0                1         2         1         2                  2         2   \n",
              "1                2         2         2         1                  1         1   \n",
              "2                1         2         1         2                  1         2   \n",
              "3                1         1         1         1                  2         1   \n",
              "4                1         1         1         2                  1         2   \n",
              "\n",
              "   SHORTNESS OF BREATH  SWALLOWING DIFFICULTY  CHEST PAIN LUNG_CANCER  \\\n",
              "0                    2                      2           2         YES   \n",
              "1                    2                      2           2         YES   \n",
              "2                    2                      1           2          NO   \n",
              "3                    1                      2           2          NO   \n",
              "4                    2                      1           1          NO   \n",
              "\n",
              "  AGE_GROUP  \n",
              "0     61-70  \n",
              "1     71-80  \n",
              "2     51-60  \n",
              "3     61-70  \n",
              "4     61-70  "
            ]
          },
          "execution_count": 54,
          "metadata": {},
          "output_type": "execute_result"
        }
      ],
      "source": [
        "# Place the data series into a new column inside of the DataFrame\n",
        "copy_df[\"AGE_GROUP\"] = pd.cut(copy_df[\"AGE\"], bins, labels = group_labels)\n",
        "copy_df.head()"
      ]
    },
    {
      "cell_type": "markdown",
      "metadata": {
        "id": "CblDfUi7YHNE"
      },
      "source": [
        "### Cancer-Positive Demographics"
      ]
    },
    {
      "cell_type": "code",
      "execution_count": null,
      "metadata": {
        "id": "UV0w4uXCYHNE",
        "outputId": "c356ef5a-1c09-4872-f6b4-acd32af47486"
      },
      "outputs": [
        {
          "data": {
            "text/plain": [
              "array(['YES', 'NO'], dtype=object)"
            ]
          },
          "execution_count": 55,
          "metadata": {},
          "output_type": "execute_result"
        }
      ],
      "source": [
        "# Checking uniques values in 'Lung Cancer' column\n",
        "\n",
        "df['LUNG_CANCER'].unique()"
      ]
    },
    {
      "cell_type": "code",
      "execution_count": null,
      "metadata": {
        "id": "G0qRUaC9YHNE"
      },
      "outputs": [],
      "source": [
        "# Creating a seperate DF for people who have diagnosed positive with lung cancer. \n",
        "\n",
        "cancer_positive_df = copy_df[copy_df['LUNG_CANCER'] == 'YES']"
      ]
    },
    {
      "cell_type": "code",
      "execution_count": null,
      "metadata": {
        "id": "2BvDM-uOYHNF",
        "outputId": "16108632-0661-495a-af87-49e854ff12bd"
      },
      "outputs": [
        {
          "data": {
            "image/png": "[encoded data removed]",
            "text/plain": [
              "<Figure size 504x360 with 1 Axes>"
            ]
          },
          "metadata": {
            "needs_background": "light"
          },
          "output_type": "display_data"
        }
      ],
      "source": [
        "labeled_barplot(cancer_positive_df,\"AGE_GROUP\",perc=True)"
      ]
    },
    {
      "cell_type": "code",
      "execution_count": null,
      "metadata": {
        "id": "pm78bB_4YHNF",
        "outputId": "88bf38bf-1eb5-4ab4-dd1f-76b0b1b9e270"
      },
      "outputs": [
        {
          "name": "stdout",
          "output_type": "stream",
          "text": [
            "113 out of 134 females have lung cancer.\n",
            "125 out of 142 males have lung cancer.\n"
          ]
        }
      ],
      "source": [
        "cancer_positive_females = cancer_positive_df['GENDER'].value_counts()['F']\n",
        "cancer_positive_males = cancer_positive_df['GENDER'].value_counts()['M']\n",
        "\n",
        "\n",
        "print(f\"{cancer_positive_females} out of {total_females} females have lung cancer.\")\n",
        "\n",
        "print(f\"{cancer_positive_males} out of {total_males} males have lung cancer.\")"
      ]
    },
    {
      "cell_type": "code",
      "execution_count": null,
      "metadata": {
        "id": "t88YX_-zYHNF",
        "outputId": "6cc9517f-81ee-44e0-d444-951c63cd0107"
      },
      "outputs": [
        {
          "data": {
            "image/png": "[encoded data removed]",
            "text/plain": [
              "<Figure size 216x360 with 1 Axes>"
            ]
          },
          "metadata": {
            "needs_background": "light"
          },
          "output_type": "display_data"
        }
      ],
      "source": [
        "labeled_barplot(cancer_positive_df,\"GENDER\",perc=True)"
      ]
    },
    {
      "cell_type": "code",
      "execution_count": null,
      "metadata": {
        "id": "DZxh7ZjiYHNG",
        "outputId": "6f215a03-a592-4d12-cd1b-ec1f10fd0d6c"
      },
      "outputs": [
        {
          "data": {
            "image/png": "[encoded data removed]",
            "text/plain": [
              "<Figure size 216x360 with 1 Axes>"
            ]
          },
          "metadata": {
            "needs_background": "light"
          },
          "output_type": "display_data"
        }
      ],
      "source": [
        "labeled_barplot(cancer_positive_df,\"SMOKING\",perc=True)"
      ]
    },
    {
      "cell_type": "code",
      "execution_count": null,
      "metadata": {
        "id": "AX-lLkUcYHNG",
        "outputId": "4140f29b-816e-4f2d-c730-2dbaffc01ece"
      },
      "outputs": [
        {
          "data": {
            "image/png": "[encoded data removed]",
            "text/plain": [
              "<Figure size 1152x1728 with 12 Axes>"
            ]
          },
          "metadata": {
            "needs_background": "light"
          },
          "output_type": "display_data"
        }
      ],
      "source": [
        "X = ['YELLOW_FINGERS', 'ANXIETY','PEER_PRESSURE', 'CHRONIC DISEASE', 'FATIGUE ', 'ALLERGY ', 'WHEEZING','ALCOHOL CONSUMING', 'COUGHING', 'SHORTNESS OF BREATH',  'SWALLOWING DIFFICULTY', 'CHEST PAIN']\n",
        "fig, ax = plt.subplots(nrows = 4, ncols = 3) # 16 subplots\n",
        "fig.set_size_inches(16,24) # set figure size\n",
        "\n",
        "for i in range(4):\n",
        "    for j in range(3):\n",
        "        sns.countplot(x = df[X[3 * i + j]] , ax = ax[i][j]) # count plot"
      ]
    },
    {
      "cell_type": "code",
      "execution_count": null,
      "metadata": {
        "id": "b-GjHef0YHNG",
        "outputId": "142c9298-04bb-4a31-8afb-6812986fb1c6"
      },
      "outputs": [
        {
          "data": {
            "text/plain": [
              "<matplotlib.axes._subplots.AxesSubplot at 0x2105bd1e848>"
            ]
          },
          "execution_count": 62,
          "metadata": {},
          "output_type": "execute_result"
        },
        {
          "data": {
            "image/png": "[encoded data removed]",
            "text/plain": [
              "<Figure size 864x864 with 2 Axes>"
            ]
          },
          "metadata": {
            "needs_background": "light"
          },
          "output_type": "display_data"
        }
      ],
      "source": [
        "corr = df.corr()\n",
        "plt.figure(figsize=(12,12))\n",
        "sns.heatmap(corr,cbar=True,square=True,fmt='.1f',annot=True,cmap='Blues')"
      ]
    },
    {
      "cell_type": "code",
      "execution_count": null,
      "metadata": {
        "id": "OX52LbQxYHNG",
        "outputId": "188af138-bd77-4866-db58-cba8b9bea1e1"
      },
      "outputs": [
        {
          "data": {
            "text/plain": [
              "['GENDER',\n",
              " 'AGE',\n",
              " 'SMOKING',\n",
              " 'YELLOW_FINGERS',\n",
              " 'ANXIETY',\n",
              " 'PEER_PRESSURE',\n",
              " 'CHRONIC DISEASE',\n",
              " 'FATIGUE ',\n",
              " 'ALLERGY ',\n",
              " 'WHEEZING',\n",
              " 'ALCOHOL CONSUMING',\n",
              " 'COUGHING',\n",
              " 'SHORTNESS OF BREATH',\n",
              " 'SWALLOWING DIFFICULTY',\n",
              " 'CHEST PAIN',\n",
              " 'LUNG_CANCER']"
            ]
          },
          "execution_count": 63,
          "metadata": {},
          "output_type": "execute_result"
        }
      ],
      "source": [
        "list(df.columns)"
      ]
    },
    {
      "cell_type": "code",
      "execution_count": null,
      "metadata": {
        "id": "luElYeuWYHNH",
        "outputId": "61205b20-d627-4eaa-da90-811aa8f48109"
      },
      "outputs": [
        {
          "data": {
            "text/html": [
              "<div>\n",
              "<style scoped>\n",
              "    .dataframe tbody tr th:only-of-type {\n",
              "        vertical-align: middle;\n",
              "    }\n",
              "\n",
              "    .dataframe tbody tr th {\n",
              "        vertical-align: top;\n",
              "    }\n",
              "\n",
              "    .dataframe thead th {\n",
              "        text-align: right;\n",
              "    }\n",
              "</style>\n",
              "<table border=\"1\" class=\"dataframe\">\n",
              "  <thead>\n",
              "    <tr style=\"text-align: right;\">\n",
              "      <th></th>\n",
              "      <th>GENDER</th>\n",
              "      <th>AGE</th>\n",
              "      <th>SMOKING</th>\n",
              "      <th>YELLOW_FINGERS</th>\n",
              "      <th>ANXIETY</th>\n",
              "      <th>PEER_PRESSURE</th>\n",
              "      <th>CHRONIC DISEASE</th>\n",
              "      <th>FATIGUE</th>\n",
              "      <th>ALLERGY</th>\n",
              "      <th>WHEEZING</th>\n",
              "      <th>ALCOHOL CONSUMING</th>\n",
              "      <th>COUGHING</th>\n",
              "      <th>SHORTNESS OF BREATH</th>\n",
              "      <th>SWALLOWING DIFFICULTY</th>\n",
              "      <th>CHEST PAIN</th>\n",
              "      <th>LUNG_CANCER</th>\n",
              "    </tr>\n",
              "  </thead>\n",
              "  <tbody>\n",
              "    <tr>\n",
              "      <th>0</th>\n",
              "      <td>1</td>\n",
              "      <td>69</td>\n",
              "      <td>1</td>\n",
              "      <td>2</td>\n",
              "      <td>2</td>\n",
              "      <td>1</td>\n",
              "      <td>1</td>\n",
              "      <td>2</td>\n",
              "      <td>1</td>\n",
              "      <td>2</td>\n",
              "      <td>2</td>\n",
              "      <td>2</td>\n",
              "      <td>2</td>\n",
              "      <td>2</td>\n",
              "      <td>2</td>\n",
              "      <td>1</td>\n",
              "    </tr>\n",
              "    <tr>\n",
              "      <th>1</th>\n",
              "      <td>1</td>\n",
              "      <td>74</td>\n",
              "      <td>2</td>\n",
              "      <td>1</td>\n",
              "      <td>1</td>\n",
              "      <td>1</td>\n",
              "      <td>2</td>\n",
              "      <td>2</td>\n",
              "      <td>2</td>\n",
              "      <td>1</td>\n",
              "      <td>1</td>\n",
              "      <td>1</td>\n",
              "      <td>2</td>\n",
              "      <td>2</td>\n",
              "      <td>2</td>\n",
              "      <td>1</td>\n",
              "    </tr>\n",
              "    <tr>\n",
              "      <th>2</th>\n",
              "      <td>0</td>\n",
              "      <td>59</td>\n",
              "      <td>1</td>\n",
              "      <td>1</td>\n",
              "      <td>1</td>\n",
              "      <td>2</td>\n",
              "      <td>1</td>\n",
              "      <td>2</td>\n",
              "      <td>1</td>\n",
              "      <td>2</td>\n",
              "      <td>1</td>\n",
              "      <td>2</td>\n",
              "      <td>2</td>\n",
              "      <td>1</td>\n",
              "      <td>2</td>\n",
              "      <td>0</td>\n",
              "    </tr>\n",
              "    <tr>\n",
              "      <th>3</th>\n",
              "      <td>1</td>\n",
              "      <td>63</td>\n",
              "      <td>2</td>\n",
              "      <td>2</td>\n",
              "      <td>2</td>\n",
              "      <td>1</td>\n",
              "      <td>1</td>\n",
              "      <td>1</td>\n",
              "      <td>1</td>\n",
              "      <td>1</td>\n",
              "      <td>2</td>\n",
              "      <td>1</td>\n",
              "      <td>1</td>\n",
              "      <td>2</td>\n",
              "      <td>2</td>\n",
              "      <td>0</td>\n",
              "    </tr>\n",
              "    <tr>\n",
              "      <th>4</th>\n",
              "      <td>0</td>\n",
              "      <td>63</td>\n",
              "      <td>1</td>\n",
              "      <td>2</td>\n",
              "      <td>1</td>\n",
              "      <td>1</td>\n",
              "      <td>1</td>\n",
              "      <td>1</td>\n",
              "      <td>1</td>\n",
              "      <td>2</td>\n",
              "      <td>1</td>\n",
              "      <td>2</td>\n",
              "      <td>2</td>\n",
              "      <td>1</td>\n",
              "      <td>1</td>\n",
              "      <td>0</td>\n",
              "    </tr>\n",
              "  </tbody>\n",
              "</table>\n",
              "</div>"
            ],
            "text/plain": [
              "   GENDER  AGE  SMOKING  YELLOW_FINGERS  ANXIETY  PEER_PRESSURE  \\\n",
              "0       1   69        1               2        2              1   \n",
              "1       1   74        2               1        1              1   \n",
              "2       0   59        1               1        1              2   \n",
              "3       1   63        2               2        2              1   \n",
              "4       0   63        1               2        1              1   \n",
              "\n",
              "   CHRONIC DISEASE  FATIGUE   ALLERGY   WHEEZING  ALCOHOL CONSUMING  COUGHING  \\\n",
              "0                1         2         1         2                  2         2   \n",
              "1                2         2         2         1                  1         1   \n",
              "2                1         2         1         2                  1         2   \n",
              "3                1         1         1         1                  2         1   \n",
              "4                1         1         1         2                  1         2   \n",
              "\n",
              "   SHORTNESS OF BREATH  SWALLOWING DIFFICULTY  CHEST PAIN  LUNG_CANCER  \n",
              "0                    2                      2           2            1  \n",
              "1                    2                      2           2            1  \n",
              "2                    2                      1           2            0  \n",
              "3                    1                      2           2            0  \n",
              "4                    2                      1           1            0  "
            ]
          },
          "execution_count": 64,
          "metadata": {},
          "output_type": "execute_result"
        }
      ],
      "source": [
        "df[\"GENDER\"] = df[\"GENDER\"].replace({\"M\":1, \"F\":0})\n",
        "df[\"LUNG_CANCER\"] = df[\"LUNG_CANCER\"].replace({\"YES\":1, \"NO\":0})\n",
        "df.head()"
      ]
    },
    {
      "cell_type": "code",
      "execution_count": null,
      "metadata": {
        "id": "zL4cVtXQYHNH",
        "outputId": "5ea1bab4-9722-48fc-8e09-504c2ae069a6"
      },
      "outputs": [
        {
          "name": "stdout",
          "output_type": "stream",
          "text": [
            "Shape of training data : (220, 15), (220,)\n",
            "Shape of testing data : (56, 15), (56,)\n"
          ]
        }
      ],
      "source": [
        "x = df.drop(\"LUNG_CANCER\", axis = 1)\n",
        "y = df[\"LUNG_CANCER\"]\n",
        "\n",
        "acc = pd.DataFrame(columns=['Model','Train Time','Accuracy'])\n",
        "\n",
        "from sklearn.preprocessing import StandardScaler\n",
        "from sklearn.model_selection import train_test_split\n",
        "\n",
        "scaler = StandardScaler()\n",
        "x = scaler.fit_transform(x)\n",
        "x_train, x_test, y_train, y_test = train_test_split(x,y, test_size=0.2, random_state=42)\n",
        "\n",
        "print(f\"Shape of training data : {x_train.shape}, {y_train.shape}\")\n",
        "print(f\"Shape of testing data : {x_test.shape}, {y_test.shape}\")"
      ]
    },
    {
      "cell_type": "markdown",
      "metadata": {
        "id": "0oEX9inpYHNH"
      },
      "source": [
        "### Naives Bayes"
      ]
    },
    {
      "cell_type": "code",
      "execution_count": null,
      "metadata": {
        "id": "BZ2UVbQlYHNH",
        "outputId": "00e53378-811e-42f5-bd15-8cc3ad39bd95"
      },
      "outputs": [
        {
          "name": "stdout",
          "output_type": "stream",
          "text": [
            "Confusion Matrix : \n",
            "\n",
            "[[ 8  4]\n",
            " [ 1 43]]\n",
            "\n",
            "Classification Report : \n",
            "\n",
            "              precision    recall  f1-score   support\n",
            "\n",
            "           0       0.89      0.67      0.76        12\n",
            "           1       0.91      0.98      0.95        44\n",
            "\n",
            "    accuracy                           0.91        56\n",
            "   macro avg       0.90      0.82      0.85        56\n",
            "weighted avg       0.91      0.91      0.91        56\n",
            "\n",
            "\n",
            "The Accuracy of Gaussian Naive Bayes is 91.07 %\n"
          ]
        }
      ],
      "source": [
        "from sklearn.naive_bayes import GaussianNB\n",
        "\n",
        "gnb = GaussianNB()\n",
        "t0=time.time()\n",
        "gnb.fit(x_train, y_train)\n",
        "train_time = round(time.time()-t0, 3)\n",
        "gnb_pred = gnb.predict(x_test)\n",
        "gnb_conf = confusion_matrix(y_test, gnb_pred)\n",
        "gnb_report = classification_report(y_test, gnb_pred)\n",
        "gnb_acc = round(accuracy_score(y_test, gnb_pred)*100, ndigits = 2)\n",
        "print(f\"Confusion Matrix : \\n\\n{gnb_conf}\")\n",
        "print(f\"\\nClassification Report : \\n\\n{gnb_report}\")\n",
        "print(f\"\\nThe Accuracy of Gaussian Naive Bayes is {gnb_acc} %\")\n",
        "acc.loc[0] = ['GaussianNB',train_time, gnb_acc]"
      ]
    },
    {
      "cell_type": "markdown",
      "metadata": {
        "id": "u_GIDmwWYHNI"
      },
      "source": [
        "### Support Vector Machine (SVM)"
      ]
    },
    {
      "cell_type": "code",
      "execution_count": null,
      "metadata": {
        "id": "BznlweYLYHNI",
        "outputId": "0de05711-a2ae-49b3-bfc9-f4b9ee75c6de"
      },
      "outputs": [
        {
          "name": "stdout",
          "output_type": "stream",
          "text": [
            "Confusion Matrix : \n",
            "\n",
            "[[ 9  3]\n",
            " [ 0 44]]\n",
            "\n",
            "Classification Report : \n",
            "\n",
            "              precision    recall  f1-score   support\n",
            "\n",
            "           0       1.00      0.75      0.86        12\n",
            "           1       0.94      1.00      0.97        44\n",
            "\n",
            "    accuracy                           0.95        56\n",
            "   macro avg       0.97      0.88      0.91        56\n",
            "weighted avg       0.95      0.95      0.94        56\n",
            "\n",
            "\n",
            "The Accuracy of Support Vector Machine is 94.64 %\n"
          ]
        }
      ],
      "source": [
        "from sklearn.svm import SVC\n",
        "\n",
        "svm = SVC(C = 100, gamma = 0.002)\n",
        "t0=time.time()\n",
        "svm.fit(x_train, y_train)\n",
        "train_time = round(time.time()-t0, 3)\n",
        "svm_pred = svm.predict(x_test)\n",
        "svm_conf = confusion_matrix(y_test, svm_pred)\n",
        "svm_report = classification_report(y_test, svm_pred)\n",
        "svm_acc = round(accuracy_score(y_test, svm_pred)*100, ndigits = 2)\n",
        "print(f\"Confusion Matrix : \\n\\n{svm_conf}\")\n",
        "print(f\"\\nClassification Report : \\n\\n{svm_report}\")\n",
        "print(f\"\\nThe Accuracy of Support Vector Machine is {svm_acc} %\")\n",
        "acc.loc[1] = ['SVC',train_time,  svm_acc]"
      ]
    },
    {
      "cell_type": "markdown",
      "metadata": {
        "id": "13Q_1Ib8YHNI"
      },
      "source": [
        "### Random Forest Model"
      ]
    },
    {
      "cell_type": "code",
      "execution_count": null,
      "metadata": {
        "id": "7USj5RA0YHNI",
        "outputId": "37a4d3b4-27df-445d-d4e6-5ae8f97cc86c"
      },
      "outputs": [
        {
          "name": "stdout",
          "output_type": "stream",
          "text": [
            "Random Forest Classification model \n",
            "\n",
            "Random Forest model with Feature: auto \n",
            "\n",
            "Classification Accuracy with  10  estimators: 89.29 \n",
            "\n",
            "Confusion Matrix : \n",
            "\n",
            "[[ 7  5]\n",
            " [ 1 43]]\n",
            "\n",
            "Classification Report : \n",
            "\n",
            "              precision    recall  f1-score   support\n",
            "\n",
            "           0       0.88      0.58      0.70        12\n",
            "           1       0.90      0.98      0.93        44\n",
            "\n",
            "    accuracy                           0.89        56\n",
            "   macro avg       0.89      0.78      0.82        56\n",
            "weighted avg       0.89      0.89      0.88        56\n",
            "\n",
            "\n",
            "The Accuracy of Random Forest Classifier is 89.29 %\n",
            "Classification Accuracy with  50  estimators: 87.5 \n",
            "\n",
            "Confusion Matrix : \n",
            "\n",
            "[[ 5  7]\n",
            " [ 0 44]]\n",
            "\n",
            "Classification Report : \n",
            "\n",
            "              precision    recall  f1-score   support\n",
            "\n",
            "           0       1.00      0.42      0.59        12\n",
            "           1       0.86      1.00      0.93        44\n",
            "\n",
            "    accuracy                           0.88        56\n",
            "   macro avg       0.93      0.71      0.76        56\n",
            "weighted avg       0.89      0.88      0.85        56\n",
            "\n",
            "\n",
            "The Accuracy of Random Forest Classifier is 87.5 %\n",
            "Classification Accuracy with  100  estimators: 85.71 \n",
            "\n",
            "Confusion Matrix : \n",
            "\n",
            "[[ 4  8]\n",
            " [ 0 44]]\n",
            "\n",
            "Classification Report : \n",
            "\n",
            "              precision    recall  f1-score   support\n",
            "\n",
            "           0       1.00      0.33      0.50        12\n",
            "           1       0.85      1.00      0.92        44\n",
            "\n",
            "    accuracy                           0.86        56\n",
            "   macro avg       0.92      0.67      0.71        56\n",
            "weighted avg       0.88      0.86      0.83        56\n",
            "\n",
            "\n",
            "The Accuracy of Random Forest Classifier is 85.71 %\n",
            "Classification Accuracy with  500  estimators: 85.71 \n",
            "\n",
            "Confusion Matrix : \n",
            "\n",
            "[[ 4  8]\n",
            " [ 0 44]]\n",
            "\n",
            "Classification Report : \n",
            "\n",
            "              precision    recall  f1-score   support\n",
            "\n",
            "           0       1.00      0.33      0.50        12\n",
            "           1       0.85      1.00      0.92        44\n",
            "\n",
            "    accuracy                           0.86        56\n",
            "   macro avg       0.92      0.67      0.71        56\n",
            "weighted avg       0.88      0.86      0.83        56\n",
            "\n",
            "\n",
            "The Accuracy of Random Forest Classifier is 85.71 %\n",
            "Classification Accuracy with  1000  estimators: 85.71 \n",
            "\n",
            "Confusion Matrix : \n",
            "\n",
            "[[ 4  8]\n",
            " [ 0 44]]\n",
            "\n",
            "Classification Report : \n",
            "\n",
            "              precision    recall  f1-score   support\n",
            "\n",
            "           0       1.00      0.33      0.50        12\n",
            "           1       0.85      1.00      0.92        44\n",
            "\n",
            "    accuracy                           0.86        56\n",
            "   macro avg       0.92      0.67      0.71        56\n",
            "weighted avg       0.88      0.86      0.83        56\n",
            "\n",
            "\n",
            "The Accuracy of Random Forest Classifier is 85.71 %\n",
            "Classification Accuracy with  5000  estimators: 85.71 \n",
            "\n",
            "Confusion Matrix : \n",
            "\n",
            "[[ 4  8]\n",
            " [ 0 44]]\n",
            "\n",
            "Classification Report : \n",
            "\n",
            "              precision    recall  f1-score   support\n",
            "\n",
            "           0       1.00      0.33      0.50        12\n",
            "           1       0.85      1.00      0.92        44\n",
            "\n",
            "    accuracy                           0.86        56\n",
            "   macro avg       0.92      0.67      0.71        56\n",
            "weighted avg       0.88      0.86      0.83        56\n",
            "\n",
            "\n",
            "The Accuracy of Random Forest Classifier is 85.71 %\n",
            "Random Forest model with Feature: sqrt \n",
            "\n",
            "Classification Accuracy with  10  estimators: 89.29 \n",
            "\n",
            "Confusion Matrix : \n",
            "\n",
            "[[ 7  5]\n",
            " [ 1 43]]\n",
            "\n",
            "Classification Report : \n",
            "\n",
            "              precision    recall  f1-score   support\n",
            "\n",
            "           0       0.88      0.58      0.70        12\n",
            "           1       0.90      0.98      0.93        44\n",
            "\n",
            "    accuracy                           0.89        56\n",
            "   macro avg       0.89      0.78      0.82        56\n",
            "weighted avg       0.89      0.89      0.88        56\n",
            "\n",
            "\n",
            "The Accuracy of Random Forest Classifier is 89.29 %\n",
            "Classification Accuracy with  50  estimators: 87.5 \n",
            "\n",
            "Confusion Matrix : \n",
            "\n",
            "[[ 5  7]\n",
            " [ 0 44]]\n",
            "\n",
            "Classification Report : \n",
            "\n",
            "              precision    recall  f1-score   support\n",
            "\n",
            "           0       1.00      0.42      0.59        12\n",
            "           1       0.86      1.00      0.93        44\n",
            "\n",
            "    accuracy                           0.88        56\n",
            "   macro avg       0.93      0.71      0.76        56\n",
            "weighted avg       0.89      0.88      0.85        56\n",
            "\n",
            "\n",
            "The Accuracy of Random Forest Classifier is 87.5 %\n",
            "Classification Accuracy with  100  estimators: 85.71 \n",
            "\n",
            "Confusion Matrix : \n",
            "\n",
            "[[ 4  8]\n",
            " [ 0 44]]\n",
            "\n",
            "Classification Report : \n",
            "\n",
            "              precision    recall  f1-score   support\n",
            "\n",
            "           0       1.00      0.33      0.50        12\n",
            "           1       0.85      1.00      0.92        44\n",
            "\n",
            "    accuracy                           0.86        56\n",
            "   macro avg       0.92      0.67      0.71        56\n",
            "weighted avg       0.88      0.86      0.83        56\n",
            "\n",
            "\n",
            "The Accuracy of Random Forest Classifier is 85.71 %\n",
            "Classification Accuracy with  500  estimators: 85.71 \n",
            "\n",
            "Confusion Matrix : \n",
            "\n",
            "[[ 4  8]\n",
            " [ 0 44]]\n",
            "\n",
            "Classification Report : \n",
            "\n",
            "              precision    recall  f1-score   support\n",
            "\n",
            "           0       1.00      0.33      0.50        12\n",
            "           1       0.85      1.00      0.92        44\n",
            "\n",
            "    accuracy                           0.86        56\n",
            "   macro avg       0.92      0.67      0.71        56\n",
            "weighted avg       0.88      0.86      0.83        56\n",
            "\n",
            "\n",
            "The Accuracy of Random Forest Classifier is 85.71 %\n",
            "Classification Accuracy with  1000  estimators: 85.71 \n",
            "\n",
            "Confusion Matrix : \n",
            "\n",
            "[[ 4  8]\n",
            " [ 0 44]]\n",
            "\n",
            "Classification Report : \n",
            "\n",
            "              precision    recall  f1-score   support\n",
            "\n",
            "           0       1.00      0.33      0.50        12\n",
            "           1       0.85      1.00      0.92        44\n",
            "\n",
            "    accuracy                           0.86        56\n",
            "   macro avg       0.92      0.67      0.71        56\n",
            "weighted avg       0.88      0.86      0.83        56\n",
            "\n",
            "\n",
            "The Accuracy of Random Forest Classifier is 85.71 %\n",
            "Classification Accuracy with  5000  estimators: 85.71 \n",
            "\n",
            "Confusion Matrix : \n",
            "\n",
            "[[ 4  8]\n",
            " [ 0 44]]\n",
            "\n",
            "Classification Report : \n",
            "\n",
            "              precision    recall  f1-score   support\n",
            "\n",
            "           0       1.00      0.33      0.50        12\n",
            "           1       0.85      1.00      0.92        44\n",
            "\n",
            "    accuracy                           0.86        56\n",
            "   macro avg       0.92      0.67      0.71        56\n",
            "weighted avg       0.88      0.86      0.83        56\n",
            "\n",
            "\n",
            "The Accuracy of Random Forest Classifier is 85.71 %\n",
            "   estimator  Train Time  accuracy_sqrt  accuracy_auto\n",
            "0       10.0       0.016          89.29          89.29\n",
            "1       50.0       0.083          87.50          87.50\n",
            "2      100.0       0.178          85.71          85.71\n",
            "3      500.0       0.900          85.71          85.71\n",
            "4     1000.0       1.610          85.71          85.71\n",
            "5     5000.0       8.189          85.71          85.71\n"
          ]
        }
      ],
      "source": [
        "from sklearn.ensemble import RandomForestClassifier\n",
        "from functools import reduce     \n",
        "\n",
        "estimator = [10,50,100,500,1000,5000] #estimate values\n",
        "features = ['auto', 'sqrt'] #feature values\n",
        "rf_accuracy_auto = [] # Empty array to store the Accuracy score\n",
        "rf_accuracy_sqrt = []\n",
        "acc_RF = pd.DataFrame(columns=['estimator','Train Time'])\n",
        "print('Random Forest Classification model','\\n')\n",
        "\n",
        "\n",
        "for i in (features): #for loop for feature selection\n",
        "    print('Random Forest model with Feature:',i,'\\n')\n",
        "    for k,j in enumerate(estimator): #for loop for estimator selection\n",
        "      rfg = RandomForestClassifier(n_estimators=j, max_features=i, random_state = 42) \n",
        "      t0=time.time()\n",
        "      rfg.fit(x_train, y_train)\n",
        "      train_time = round(time.time()-t0, 3)\n",
        "      rfg_pred = rfg.predict(x_test)\n",
        "      rfg_conf = confusion_matrix(y_test, rfg_pred)\n",
        "      rfg_report = classification_report(y_test, rfg_pred)\n",
        "      rfg_acc = round(accuracy_score(y_test, rfg_pred)*100, ndigits = 2)\n",
        "      print('Classification Accuracy with ',j,' estimators:', rfg_acc, \"\\n\")\n",
        "      print(f\"Confusion Matrix : \\n\\n{rfg_conf}\")\n",
        "      print(f\"\\nClassification Report : \\n\\n{rfg_report}\")\n",
        "      print(f\"\\nThe Accuracy of Random Forest Classifier is {rfg_acc} %\")\n",
        "      acc_RF.loc[k] = [j,train_time]\n",
        "      if i == 'sqrt':\n",
        "          rf_accuracy_sqrt.append(rfg_acc) #store the accuracy score if feature is squrt\n",
        "      else:\n",
        "          rf_accuracy_auto.append(rfg_acc) #store the accuracy score if feature is auto\n",
        "\n",
        "acc.loc[2] = ['RandomForestClassifier',train_time, rfg_acc]\n",
        "accuracy1 = pd.DataFrame(rf_accuracy_sqrt,columns = ['accuracy_sqrt'])\n",
        "accuracy2 = pd.DataFrame(rf_accuracy_auto,columns = ['accuracy_auto'])\n",
        "accuracy_rf = pd.merge(accuracy1,accuracy2,left_index=True,right_index=True)\n",
        "rf = pd.merge(acc_RF,accuracy_rf,left_index=True,right_index=True)\n",
        "print(rf)"
      ]
    },
    {
      "cell_type": "markdown",
      "metadata": {
        "id": "owMRkW7tYHNJ"
      },
      "source": [
        "### KNN"
      ]
    },
    {
      "cell_type": "code",
      "execution_count": null,
      "metadata": {
        "id": "gyqitHgeYHNJ",
        "outputId": "4bd0f823-55e6-46b0-a5f6-7e57920b2562"
      },
      "outputs": [
        {
          "name": "stdout",
          "output_type": "stream",
          "text": [
            "Confusion Matrix : \n",
            "\n",
            "[[12  0]\n",
            " [ 2 42]]\n",
            "\n",
            "Classification Report : \n",
            "\n",
            "              precision    recall  f1-score   support\n",
            "\n",
            "           0       0.86      1.00      0.92        12\n",
            "           1       1.00      0.95      0.98        44\n",
            "\n",
            "    accuracy                           0.96        56\n",
            "   macro avg       0.93      0.98      0.95        56\n",
            "weighted avg       0.97      0.96      0.97        56\n",
            "\n",
            "\n",
            "The Accuracy of K Nearest Neighbors Classifier is 96.43 %\n",
            "Confusion Matrix : \n",
            "\n",
            "[[ 6  6]\n",
            " [ 1 43]]\n",
            "\n",
            "Classification Report : \n",
            "\n",
            "              precision    recall  f1-score   support\n",
            "\n",
            "           0       0.86      0.50      0.63        12\n",
            "           1       0.88      0.98      0.92        44\n",
            "\n",
            "    accuracy                           0.88        56\n",
            "   macro avg       0.87      0.74      0.78        56\n",
            "weighted avg       0.87      0.88      0.86        56\n",
            "\n",
            "\n",
            "The Accuracy of K Nearest Neighbors Classifier is 87.5 %\n",
            "Confusion Matrix : \n",
            "\n",
            "[[ 7  5]\n",
            " [ 1 43]]\n",
            "\n",
            "Classification Report : \n",
            "\n",
            "              precision    recall  f1-score   support\n",
            "\n",
            "           0       0.88      0.58      0.70        12\n",
            "           1       0.90      0.98      0.93        44\n",
            "\n",
            "    accuracy                           0.89        56\n",
            "   macro avg       0.89      0.78      0.82        56\n",
            "weighted avg       0.89      0.89      0.88        56\n",
            "\n",
            "\n",
            "The Accuracy of K Nearest Neighbors Classifier is 89.29 %\n",
            "Confusion Matrix : \n",
            "\n",
            "[[ 4  8]\n",
            " [ 1 43]]\n",
            "\n",
            "Classification Report : \n",
            "\n",
            "              precision    recall  f1-score   support\n",
            "\n",
            "           0       0.80      0.33      0.47        12\n",
            "           1       0.84      0.98      0.91        44\n",
            "\n",
            "    accuracy                           0.84        56\n",
            "   macro avg       0.82      0.66      0.69        56\n",
            "weighted avg       0.83      0.84      0.81        56\n",
            "\n",
            "\n",
            "The Accuracy of K Nearest Neighbors Classifier is 83.93 %\n",
            "Confusion Matrix : \n",
            "\n",
            "[[ 7  5]\n",
            " [ 1 43]]\n",
            "\n",
            "Classification Report : \n",
            "\n",
            "              precision    recall  f1-score   support\n",
            "\n",
            "           0       0.88      0.58      0.70        12\n",
            "           1       0.90      0.98      0.93        44\n",
            "\n",
            "    accuracy                           0.89        56\n",
            "   macro avg       0.89      0.78      0.82        56\n",
            "weighted avg       0.89      0.89      0.88        56\n",
            "\n",
            "\n",
            "The Accuracy of K Nearest Neighbors Classifier is 89.29 %\n",
            "Confusion Matrix : \n",
            "\n",
            "[[ 6  6]\n",
            " [ 1 43]]\n",
            "\n",
            "Classification Report : \n",
            "\n",
            "              precision    recall  f1-score   support\n",
            "\n",
            "           0       0.86      0.50      0.63        12\n",
            "           1       0.88      0.98      0.92        44\n",
            "\n",
            "    accuracy                           0.88        56\n",
            "   macro avg       0.87      0.74      0.78        56\n",
            "weighted avg       0.87      0.88      0.86        56\n",
            "\n",
            "\n",
            "The Accuracy of K Nearest Neighbors Classifier is 87.5 %\n",
            "Confusion Matrix : \n",
            "\n",
            "[[ 7  5]\n",
            " [ 1 43]]\n",
            "\n",
            "Classification Report : \n",
            "\n",
            "              precision    recall  f1-score   support\n",
            "\n",
            "           0       0.88      0.58      0.70        12\n",
            "           1       0.90      0.98      0.93        44\n",
            "\n",
            "    accuracy                           0.89        56\n",
            "   macro avg       0.89      0.78      0.82        56\n",
            "weighted avg       0.89      0.89      0.88        56\n",
            "\n",
            "\n",
            "The Accuracy of K Nearest Neighbors Classifier is 89.29 %\n",
            "   K_value  Train Time  Accuracy\n",
            "0      2.0       0.001     96.43\n",
            "1      3.0       0.001     87.50\n",
            "2      4.0       0.001     89.29\n",
            "3      5.0       0.001     83.93\n",
            "4      6.0       0.001     89.29\n",
            "5      7.0       0.000     87.50\n",
            "6      8.0       0.001     89.29\n"
          ]
        }
      ],
      "source": [
        "from sklearn.neighbors import KNeighborsClassifier\n",
        "K = [2,3,4,5,6,7,8]\n",
        "acc_KNN = pd.DataFrame(columns=['K_value','Train Time','Accuracy'])\n",
        "for i,k in enumerate(K):\n",
        "  knn = KNeighborsClassifier(n_neighbors=k)\n",
        "  t0=time.time()\n",
        "  knn.fit(x_train, y_train)\n",
        "  train_time = round(time.time()-t0, 3)\n",
        "  knn_pred = knn.predict(x_test)\n",
        "  knn_conf = confusion_matrix(y_test, knn_pred)\n",
        "  knn_report = classification_report(y_test, knn_pred)\n",
        "  knn_acc = round(accuracy_score(y_test, knn_pred)*100, ndigits = 2)\n",
        "  print(f\"Confusion Matrix : \\n\\n{knn_conf}\")\n",
        "  print(f\"\\nClassification Report : \\n\\n{knn_report}\")\n",
        "  print(f\"\\nThe Accuracy of K Nearest Neighbors Classifier is {knn_acc} %\")\n",
        "  acc_KNN.loc[i] = [k,train_time,  knn_acc]\n",
        "\n",
        "accuracy1 = pd.DataFrame(rf_accuracy_sqrt,columns = ['accuracy_sqrt'])\n",
        "acc.loc[3] = ['KNeighborsClassifier',train_time,  knn_acc]\n",
        "print(acc_KNN)"
      ]
    },
    {
      "cell_type": "markdown",
      "metadata": {
        "id": "ivZ9VpBIYHNJ"
      },
      "source": [
        "### Decision Trees"
      ]
    },
    {
      "cell_type": "code",
      "execution_count": null,
      "metadata": {
        "id": "Cls2KzwgYHNK",
        "outputId": "e7833a5f-674d-447c-c106-4fc86db3e3e8"
      },
      "outputs": [
        {
          "name": "stdout",
          "output_type": "stream",
          "text": [
            "Confusion Matrix : \n",
            "\n",
            "[[ 7  5]\n",
            " [ 1 43]]\n",
            "\n",
            "Classification Report : \n",
            "\n",
            "              precision    recall  f1-score   support\n",
            "\n",
            "           0       0.88      0.58      0.70        12\n",
            "           1       0.90      0.98      0.93        44\n",
            "\n",
            "    accuracy                           0.89        56\n",
            "   macro avg       0.89      0.78      0.82        56\n",
            "weighted avg       0.89      0.89      0.88        56\n",
            "\n",
            "\n",
            "The Accuracy of Decision Tree Classifier is 89.29 %\n"
          ]
        }
      ],
      "source": [
        "#Decision Tree\n",
        "from sklearn.tree import DecisionTreeClassifier\n",
        "# We define the model\n",
        "dtcla = DecisionTreeClassifier(random_state= 42)\n",
        "t0=time.time()\n",
        "#We train the model\n",
        "dtcla.fit(x_train, y_train)\n",
        "train_time = round(time.time()-t0, 3)\n",
        "#We predict target values\n",
        "dtcla_pred = dtcla.predict(x_test)\n",
        "# The confusion matrix\n",
        "dtcla_conf = confusion_matrix(y_test, dtcla_pred)\n",
        "\n",
        "dtcla_report = classification_report(y_test, dtcla_pred)\n",
        "dtcla_acc = round(accuracy_score(y_test, knn_pred)*100, ndigits = 2)\n",
        "\n",
        "print(f\"Confusion Matrix : \\n\\n{dtcla_conf}\")\n",
        "print(f\"\\nClassification Report : \\n\\n{dtcla_report}\")\n",
        "print(f\"\\nThe Accuracy of Decision Tree Classifier is {dtcla_acc} %\")\n",
        "acc.loc[4] = ['DecisionTreeClassifier', train_time, dtcla_acc]"
      ]
    },
    {
      "cell_type": "markdown",
      "metadata": {
        "id": "SR5zKGhPYHNK"
      },
      "source": [
        "### Conclusion"
      ]
    },
    {
      "cell_type": "code",
      "execution_count": null,
      "metadata": {
        "id": "WYdttjapYHNK",
        "outputId": "e1645b98-6d3d-45ab-fb0c-c5b75bb1f2c3"
      },
      "outputs": [
        {
          "data": {
            "text/html": [
              "<div>\n",
              "<style scoped>\n",
              "    .dataframe tbody tr th:only-of-type {\n",
              "        vertical-align: middle;\n",
              "    }\n",
              "\n",
              "    .dataframe tbody tr th {\n",
              "        vertical-align: top;\n",
              "    }\n",
              "\n",
              "    .dataframe thead th {\n",
              "        text-align: right;\n",
              "    }\n",
              "</style>\n",
              "<table border=\"1\" class=\"dataframe\">\n",
              "  <thead>\n",
              "    <tr style=\"text-align: right;\">\n",
              "      <th></th>\n",
              "      <th>Model</th>\n",
              "      <th>Train Time</th>\n",
              "      <th>Accuracy</th>\n",
              "    </tr>\n",
              "  </thead>\n",
              "  <tbody>\n",
              "    <tr>\n",
              "      <th>0</th>\n",
              "      <td>GaussianNB</td>\n",
              "      <td>0.002</td>\n",
              "      <td>91.07</td>\n",
              "    </tr>\n",
              "    <tr>\n",
              "      <th>1</th>\n",
              "      <td>SVC</td>\n",
              "      <td>0.003</td>\n",
              "      <td>94.64</td>\n",
              "    </tr>\n",
              "    <tr>\n",
              "      <th>2</th>\n",
              "      <td>RandomForestClassifier</td>\n",
              "      <td>8.189</td>\n",
              "      <td>85.71</td>\n",
              "    </tr>\n",
              "    <tr>\n",
              "      <th>3</th>\n",
              "      <td>KNeighborsClassifier</td>\n",
              "      <td>0.001</td>\n",
              "      <td>89.29</td>\n",
              "    </tr>\n",
              "    <tr>\n",
              "      <th>4</th>\n",
              "      <td>DecisionTreeClassifier</td>\n",
              "      <td>0.002</td>\n",
              "      <td>89.29</td>\n",
              "    </tr>\n",
              "  </tbody>\n",
              "</table>\n",
              "</div>"
            ],
            "text/plain": [
              "                    Model  Train Time  Accuracy\n",
              "0              GaussianNB       0.002     91.07\n",
              "1                     SVC       0.003     94.64\n",
              "2  RandomForestClassifier       8.189     85.71\n",
              "3    KNeighborsClassifier       0.001     89.29\n",
              "4  DecisionTreeClassifier       0.002     89.29"
            ]
          },
          "execution_count": 71,
          "metadata": {},
          "output_type": "execute_result"
        }
      ],
      "source": [
        "acc"
      ]
    },
    {
      "cell_type": "code",
      "execution_count": null,
      "metadata": {
        "id": "GHkWTB8jYHNK",
        "outputId": "0e087d66-5f49-4e73-88a6-1f4a9039f2f8"
      },
      "outputs": [
        {
          "data": {
            "image/png": "[encoded data removed]",
            "text/plain": [
              "<Figure size 432x288 with 1 Axes>"
            ]
          },
          "metadata": {
            "needs_background": "light"
          },
          "output_type": "display_data"
        }
      ],
      "source": [
        "ax = acc.plot.bar(x='Model', y='Accuracy', rot=90)\n",
        "ax.yaxis.set_tick_params(pad = 5)"
      ]
    },
    {
      "cell_type": "markdown",
      "metadata": {
        "id": "g6HAyn11YHNL"
      },
      "source": [
        "### Thank you!"
      ]
    },
    {
      "cell_type": "code",
      "execution_count": null,
      "metadata": {
        "id": "tw8e54nEYHNL"
      },
      "outputs": [],
      "source": []
    }
  ],
  "metadata": {
    "kernelspec": {
      "display_name": "Python 3",
      "language": "python",
      "name": "python3"
    },
    "language_info": {
      "codemirror_mode": {
        "name": "ipython",
        "version": 3
      },
      "file_extension": ".py",
      "mimetype": "text/x-python",
      "name": "python",
      "nbconvert_exporter": "python",
      "pygments_lexer": "ipython3",
      "version": "3.7.6"
    },
    "colab": {
      "provenance": []
    }
  },
  "nbformat": 4,
  "nbformat_minor": 0
}